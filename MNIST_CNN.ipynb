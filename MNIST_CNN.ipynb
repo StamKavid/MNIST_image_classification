{
  "cells": [
    {
      "cell_type": "markdown",
      "metadata": {
        "id": "cuoc96dsxEqZ"
      },
      "source": [
        "# MNIST\n",
        "\n",
        "The **MNIST** database (Modified National Institute of Standards and Technology database) is a large collection of **handwritten digits**. It has a **training** set of **60,000** examples, and a **test** set of **10,000** examples. \n",
        "\n",
        "The digits have been size-normalized and centered in a fixed-size image. The original black and white (bilevel) images from NIST were size normalized to fit in a **20x20** pixel box while preserving their aspect ratio. The resulting images contain grey levels as a result of the anti-aliasing technique used by the normalization algorithm. \n",
        "\n",
        "The images were centered in a **28x28** image by computing the center of mass of the pixels, and translating the image so as to position this point at the center of the 28x28 field.\n",
        "\n",
        "*Wiki*: *https://paperswithcode.com/dataset/mnist*, \n",
        "\n",
        "*Data source*: *https://www.kaggle.com/competitions/digit-recognizer/data?select=test.csv*"
      ]
    },
    {
      "cell_type": "markdown",
      "metadata": {
        "id": "g509O-eCzqyg"
      },
      "source": [
        "## **Chapter 1**\n",
        "\n",
        "### Import libraries"
      ]
    },
    {
      "cell_type": "code",
      "execution_count": 123,
      "metadata": {
        "id": "v_oyfXJXzkrf"
      },
      "outputs": [],
      "source": [
        "# Data manipulation\n",
        "import pandas as pd\n",
        "import numpy as np\n",
        "import itertools\n",
        "\n",
        "# Data visualization\n",
        "import matplotlib.pyplot as plt\n",
        "import plotly.express as px\n",
        "import seaborn as sns\n",
        "\n",
        "# Libraries from Scikit-learn & Keras, to help with the ML part - We are using TF backend\n",
        "import tensorflow as tf\n",
        "from sklearn.model_selection import train_test_split\n",
        "from keras.utils.np_utils import to_categorical\n",
        "from keras.models import Sequential\n",
        "from keras.layers import Dense, Dropout, Flatten, Conv2D, MaxPool2D, BatchNormalization\n",
        "from keras.preprocessing.image import ImageDataGenerator\n",
        "from keras.callbacks import LearningRateScheduler\n",
        "from sklearn.metrics import confusion_matrix\n",
        "from sklearn.metrics import classification_report\n",
        "\n",
        "# Dask is a flexible library for parallel computing in Python. - https://docs.dask.org/en/stable/\n",
        "# import dask\n",
        "# !pip install fsspec\n",
        "import dask.dataframe as dd\n",
        "\n",
        "# See all the features in the head() function\n",
        "pd.set_option('display.max_columns', None)\n",
        "pd.set_option('display.max_rows', None)\n",
        "\n",
        "plt.style.use(\"ggplot\") # Make matplotlib charts looks like ggplot from R."
      ]
    },
    {
      "cell_type": "code",
      "execution_count": null,
      "metadata": {
        "colab": {
          "base_uri": "https://localhost:8080/"
        },
        "id": "DzN10okD0-hL",
        "outputId": "e7a7ff12-2aef-4b8b-d1d3-f6f1dd61d2ee"
      },
      "outputs": [
        {
          "name": "stdout",
          "output_type": "stream",
          "text": [
            "mkdir: cannot create directory ‘/root/.kaggle’: File exists\n",
            "Downloading digit-recognizer.zip to /content\n",
            " 59% 9.00M/15.3M [00:00<00:00, 43.8MB/s]\n",
            "100% 15.3M/15.3M [00:00<00:00, 56.6MB/s]\n",
            "Archive:  digit-recognizer.zip\n",
            "  inflating: sample_submission.csv   \n",
            "  inflating: test.csv                \n",
            "  inflating: train.csv               \n"
          ]
        }
      ],
      "source": [
        "# Download MNIST dataset directly from Kaggle competition\n",
        "\"\"\"\n",
        "1. Make a directory named “.kaggle”\n",
        "2. Copy the “kaggle.json” into this new directory - This one is created from Kaggle account --> Create new API token\n",
        "3. Allocate the required permission\n",
        "4. Download ZIP file from Kaggle\n",
        "5. Unzip the file to obtain, Train.csv & Test.csv\n",
        "\"\"\"\n",
        "# !mkdir ~/.kaggle\n",
        "# !cp kaggle.json ~/.kaggle/\n",
        "# !chmod 600 ~/.kaggle/kaggle.json\n",
        "# !kaggle competitions download digit-recognizer\n",
        "# !unzip digit-recognizer.zip"
      ]
    },
    {
      "cell_type": "code",
      "execution_count": null,
      "metadata": {
        "id": "47iQNACf2uWB"
      },
      "outputs": [],
      "source": [
        "df_train = pd.read_csv(\"/content/train.csv\")\n",
        "df_test = pd.read_csv(\"/content/test.csv\")"
      ]
    },
    {
      "cell_type": "code",
      "execution_count": null,
      "metadata": {
        "colab": {
          "base_uri": "https://localhost:8080/"
        },
        "id": "7fS6WhFz3yL2",
        "outputId": "c71f49d7-e2be-4dca-a523-152f4c21d7c0"
      },
      "outputs": [
        {
          "data": {
            "text/plain": [
              "((42000, 785), (28000, 784))"
            ]
          },
          "execution_count": 9,
          "metadata": {},
          "output_type": "execute_result"
        }
      ],
      "source": [
        "# Shape of train, test data\n",
        "df_train.shape, df_test.shape"
      ]
    },
    {
      "cell_type": "markdown",
      "metadata": {
        "id": "AG9tG51G5A6X"
      },
      "source": [
        "## **Chapter 2**\n",
        "### Exploratory Data Analysis (EDA)\n",
        "\n",
        "**Exploratory Data Analysis** refers to the critical process of performing initial investigations on data so as to discover patterns, to spot anomalies, to test hypothesis and to check assumptions with the help of summary statistics and graphical representations.\n"
      ]
    },
    {
      "cell_type": "code",
      "execution_count": null,
      "metadata": {
        "id": "RhXnEwA1eomT"
      },
      "outputs": [],
      "source": [
        "# Shape of train, test data\n",
        "print(f\" Null values on Train set: {df_train.isna().any().sum()}\")\n",
        "print(f\" Null values on Test set: {df_test.isna().any().sum()}\")#df_test.isnull().any().describe()"
      ]
    },
    {
      "cell_type": "code",
      "execution_count": null,
      "metadata": {
        "colab": {
          "base_uri": "https://localhost:8080/",
          "height": 282
        },
        "id": "nPHMABEN5Ame",
        "outputId": "4eadac72-c99d-4b00-d4a8-9a0acdf3b424"
      },
      "outputs": [
        {
          "data": {
            "image/png": "[encoded data removed]",
            "text/plain": [
              "<Figure size 432x288 with 1 Axes>"
            ]
          },
          "metadata": {},
          "output_type": "display_data"
        }
      ],
      "source": [
        "# Data Processing to feed into the Model - Normalize & reshape values\n",
        "\"\"\"\n",
        "1. We split our data to x_train, x_test, y_train, y_test\n",
        "2. We normalize the values of pixels with the largest 255 (white)\n",
        "\"\"\"\n",
        "y_train = df_train[\"label\"]\n",
        "x_train = df_train.drop(labels = [\"label\"],axis = 1)\n",
        "\n",
        "g = sns.countplot(x = y_train)\n",
        "\n",
        "# y_train.value_counts()\n",
        "\n",
        "# Grayscale normalization to reduce the effect of illumination's differences. CNN converge faster on [0 - 1] rathen on [0 - 255]\n",
        "x_train = x_train / 255.0\n",
        "x_test = df_test / 255.0\n",
        "\n",
        "# Reshape to 28x28x1 3D matrices\n",
        "x_train = x_train.values.reshape(-1,28,28,1)\n",
        "x_test = x_test.values.reshape(-1,28,28,1)\n",
        "\n",
        "# Encode labels to one hot vectors\n",
        "y_train = to_categorical(y_train, num_classes = 10)"
      ]
    },
    {
      "cell_type": "code",
      "execution_count": null,
      "metadata": {
        "colab": {
          "base_uri": "https://localhost:8080/",
          "height": 276
        },
        "id": "QDVHU7AY4I07",
        "outputId": "749096cd-b48c-4880-f0ee-78a107cb116a"
      },
      "outputs": [
        {
          "data": {
            "image/png": "[encoded data removed]",
            "text/plain": [
              "<Figure size 1080x324 with 30 Axes>"
            ]
          },
          "metadata": {},
          "output_type": "display_data"
        }
      ],
      "source": [
        "# Visualization of train set\n",
        "plt.figure(figsize=(15,4.5))\n",
        "for i in range(30):  \n",
        "    plt.subplot(3, 10, i+1)\n",
        "    plt.imshow(x_train[i].reshape((28,28)),cmap=plt.cm.binary)\n",
        "    plt.axis('off')\n",
        "plt.subplots_adjust(wspace=-0.1, hspace=-0.1)\n",
        "plt.show()"
      ]
    },
    {
      "cell_type": "markdown",
      "metadata": {
        "id": "hC2r_vqT7U9L"
      },
      "source": [
        "# **Chapter 3**\n",
        "### Machine Learning (ML) model & architectures"
      ]
    },
    {
      "cell_type": "markdown",
      "metadata": {
        "id": "NBle1PARTOtc"
      },
      "source": [
        "### 1. Train/Validation set"
      ]
    },
    {
      "cell_type": "code",
      "execution_count": null,
      "metadata": {
        "id": "zH2fcjDiS6pT"
      },
      "outputs": [],
      "source": [
        "# Split the train and the validation set for the fitting\n",
        "X_train, X_val, Y_train, Y_val = train_test_split(x_train, y_train, test_size = 0.1, random_state= 2)"
      ]
    },
    {
      "cell_type": "code",
      "execution_count": null,
      "metadata": {
        "colab": {
          "base_uri": "https://localhost:8080/",
          "height": 265
        },
        "id": "XXCjXmOPTViT",
        "outputId": "2939a0c2-56d3-45f5-fed1-9f8aa0d648b5"
      },
      "outputs": [
        {
          "data": {
            "image/png": "[encoded data removed]",
            "text/plain": [
              "<Figure size 432x288 with 1 Axes>"
            ]
          },
          "metadata": {},
          "output_type": "display_data"
        }
      ],
      "source": [
        "# Visualization example of training data\n",
        "plt.imshow(X_train[6][:,:,0])\n",
        "plt.show()"
      ]
    },
    {
      "cell_type": "markdown",
      "metadata": {
        "id": "cuDc9jlwTh5-"
      },
      "source": [
        "### Optional - Data Augmentation"
      ]
    },
    {
      "cell_type": "code",
      "execution_count": null,
      "metadata": {
        "id": "KD1zoz-HV4M8"
      },
      "outputs": [],
      "source": [
        "# Data Augmentation - Avoid overfitting problem\n",
        "\n",
        "\"\"\"\n",
        "We can make your existing dataset larger, with synthetic (augmented) data. The idea is to alter the training data with small transformations to reproduce the variations occuring when someone is writing a digit.\n",
        "Approaches that alter the training data in ways that change the array representation while keeping the label the same are known as data augmentation techniques.\n",
        "Some popular augmentations people use are grayscales, horizontal flips, vertical flips, random crops, color jitters, translations, rotations, and much more.\n",
        "By applying just a couple of these transformations to our training data, we can easily double or triple the number of training examples and create a very robust model.\n",
        "\n",
        "For this example, we cannot use vertical or horizontal flip, as it could lead to misclassification of symmetrical numbers like 6,9\n",
        "\"\"\"\n",
        "datagen = ImageDataGenerator(\n",
        "        featurewise_center=False,  # set input mean to 0 over the dataset\n",
        "        samplewise_center=False,  # set each sample mean to 0\n",
        "        featurewise_std_normalization=False,  # divide inputs by std of the dataset\n",
        "        samplewise_std_normalization=False,  # divide each input by its std\n",
        "        zca_whitening=False,  # apply ZCA whitening\n",
        "        rotation_range=10,  # randomly rotate images in the range (degrees, 0 to 180)\n",
        "        zoom_range = 0.1, # Randomly zoom image \n",
        "        width_shift_range=0.1,  # randomly shift images horizontally (fraction of total width)\n",
        "        height_shift_range=0.1,  # randomly shift images vertically (fraction of total height)\n",
        "        horizontal_flip=False,  # randomly flip images\n",
        "        vertical_flip=False)  # randomly flip images\n",
        "\n",
        "datagen.fit(X_train)"
      ]
    },
    {
      "cell_type": "markdown",
      "metadata": {
        "id": "GBgXk3Le9uTG"
      },
      "source": [
        "## ***Convolutional Neural Networks (CNN) | Overview***\n",
        "\n",
        "There are so many different CNN architectures (AlexNet, LeNet-5, Inception-v1-3, VGG-16 etc.) that were used for experimentation. \n",
        "\n",
        "But, how do we choose the most accurate and efficient CNN architecture for classifying MNIST handwritten digits?\n",
        "\n",
        "A typical CNN design begins with feature extraction (alternating convolution layers with subsampling layers) and finishes with classification (dense layers followed by a final softmax layer).\n"
      ]
    },
    {
      "cell_type": "markdown",
      "metadata": {
        "id": "WoG9J1zwTwLc"
      },
      "source": [
        "### Model\n",
        "\n",
        "1. Convolutional (Conv2D) layer with **32** filters for the two first conv2D layers and **64** filters for the last two ones. Each filter transforms a part of the image (defined by the kernel size) using the kernel filter. The kernel filter matrix is applied on the whole image. Filters can be seen as a **transformation** of the image.\n",
        "\n",
        "2. Max Pooling (**MaxPool2D**) layer. This layer simply acts as a **downsampling** filter. The use of them is to reduce computational cost, and to some extent also reduce overfitting. We have to choose the pooling size (i.e the area size pooled each time) more the pooling dimension is high, more the downsampling is important.\n",
        "\n",
        "3. **Dropout** is a regularization method, where a proportion of nodes in the layer are randomly ignored (setting their wieghts to zero) for each training sample. This drops randomly a propotion of the network and forces the network to learn features in a distributed way.\n",
        "\n",
        "4. Activation function = '**ReLu**'. The rectifier activation function is used to add non linearity to the network.\n",
        "\n",
        "5. Flatten layer to convert the final feature maps into a one single 1D vector. This flattening step is needed so that you can make use of fully connected layers after some convolutional/maxpool layers.\n",
        "\n",
        "6. 2 Fully Connected (FC) dense layers which are neural networks (ANN) classifier. **Softmax** has been used as the activation function for the last layer, in order to distribute the probability of the 10 outputs."
      ]
    },
    {
      "cell_type": "code",
      "execution_count": null,
      "metadata": {
        "id": "8weWWpPeTzp6"
      },
      "outputs": [],
      "source": [
        "model = Sequential()\n",
        "\n",
        "# 1st Block\n",
        "model.add(Conv2D(filters = 32, kernel_size = (5,5), padding = 'same', kernel_initializer = 'he_normal',\n",
        "                 activation = 'relu', input_shape = (28,28,1)))\n",
        "model.add(Conv2D(filters = 32, kernel_size = (5,5), padding = 'same', kernel_initializer = 'he_normal',\n",
        "                 activation = 'relu'))\n",
        "model.add(MaxPool2D(pool_size=(2,2)))\n",
        "model.add(Dropout(0.20))\n",
        "\n",
        "# 2nd Block\n",
        "model.add(Conv2D(filters = 64, kernel_size = (3,3), padding = 'same', kernel_initializer = 'he_normal',\n",
        "                 activation = 'relu'))\n",
        "model.add(Conv2D(filters = 64, kernel_size = (3,3), padding = 'same', kernel_initializer = 'he_normal',\n",
        "                 activation = 'relu'))\n",
        "model.add(MaxPool2D(pool_size=(2,2), strides=(2,2)))\n",
        "model.add(Dropout(0.25))\n",
        "\n",
        "# 3rd Block\n",
        "model.add(Flatten())\n",
        "model.add(Dense(256, activation = 'relu'))\n",
        "model.add(Dropout(0.5))\n",
        "model.add(Dense(10, activation = \"softmax\"))"
      ]
    },
    {
      "cell_type": "code",
      "execution_count": null,
      "metadata": {
        "colab": {
          "base_uri": "https://localhost:8080/"
        },
        "id": "-vZ_yYm8u21O",
        "outputId": "485789b0-c558-4346-c0ff-a1be63cefe09"
      },
      "outputs": [
        {
          "name": "stdout",
          "output_type": "stream",
          "text": [
            "Model: \"sequential_23\"\n",
            "_________________________________________________________________\n",
            " Layer (type)                Output Shape              Param #   \n",
            "=================================================================\n",
            " conv2d_137 (Conv2D)         (None, 28, 28, 32)        832       \n",
            "                                                                 \n",
            " conv2d_138 (Conv2D)         (None, 28, 28, 32)        25632     \n",
            "                                                                 \n",
            " max_pooling2d_16 (MaxPoolin  (None, 14, 14, 32)       0         \n",
            " g2D)                                                            \n",
            "                                                                 \n",
            " dropout_69 (Dropout)        (None, 14, 14, 32)        0         \n",
            "                                                                 \n",
            " conv2d_139 (Conv2D)         (None, 14, 14, 64)        18496     \n",
            "                                                                 \n",
            " conv2d_140 (Conv2D)         (None, 14, 14, 64)        36928     \n",
            "                                                                 \n",
            " max_pooling2d_17 (MaxPoolin  (None, 7, 7, 64)         0         \n",
            " g2D)                                                            \n",
            "                                                                 \n",
            " dropout_70 (Dropout)        (None, 7, 7, 64)          0         \n",
            "                                                                 \n",
            " flatten_23 (Flatten)        (None, 3136)              0         \n",
            "                                                                 \n",
            " dense_31 (Dense)            (None, 256)               803072    \n",
            "                                                                 \n",
            " dropout_71 (Dropout)        (None, 256)               0         \n",
            "                                                                 \n",
            " dense_32 (Dense)            (None, 10)                2570      \n",
            "                                                                 \n",
            "=================================================================\n",
            "Total params: 887,530\n",
            "Trainable params: 887,530\n",
            "Non-trainable params: 0\n",
            "_________________________________________________________________\n"
          ]
        }
      ],
      "source": [
        "model.summary()"
      ]
    },
    {
      "cell_type": "code",
      "execution_count": null,
      "metadata": {
        "id": "FyL-K4gKVhuQ"
      },
      "outputs": [],
      "source": [
        "# Compile the model\n",
        "model.compile(optimizer = 'adam' , loss = \"categorical_crossentropy\", metrics=[\"accuracy\"])"
      ]
    },
    {
      "cell_type": "code",
      "execution_count": null,
      "metadata": {
        "id": "-zXc9txwVujA"
      },
      "outputs": [],
      "source": [
        "# Learning Rate Scheduler\n",
        "lr_sched = LearningRateScheduler(lambda x: 1e-3 * 0.95 ** x)\n",
        "\n",
        "# Custom Callback\n",
        "class myCallback(tf.keras.callbacks.Callback):\n",
        "    def on_epoch_end(self, epoch, logs = {}):\n",
        "        if(abs(logs.get('val_loss') - (logs.get('loss'))) <= 0.0001):\n",
        "            print(\"\\n Val Loss is close to train loss so cancelling training!\")\n",
        "            self.model.stop_training = True\n",
        "\n",
        "callbacks = myCallback()"
      ]
    },
    {
      "cell_type": "code",
      "execution_count": null,
      "metadata": {
        "colab": {
          "background_save": true
        },
        "id": "HP52Pa2fVw8r",
        "outputId": "80d5a517-ae59-436c-f1d5-6663ce7bcdc5"
      },
      "outputs": [
        {
          "name": "stdout",
          "output_type": "stream",
          "text": [
            "590/590 - 253s - loss: 0.4374 - accuracy: 0.8589 - val_loss: 0.0609 - val_accuracy: 0.9793 - lr: 0.0010 - 253s/epoch - 429ms/step\n"
          ]
        }
      ],
      "source": [
        "# Fit the model\n",
        "batch_size = 64\n",
        "ep = 30\n",
        "history = model.fit(datagen.flow(X_train, Y_train, batch_size = batch_size),\n",
        "                              epochs = ep, validation_data = (X_val,Y_val),\n",
        "                              verbose = 2, steps_per_epoch=X_train.shape[0] // batch_size\n",
        "                              , callbacks=[lr_sched, callbacks])"
      ]
    },
    {
      "cell_type": "code",
      "execution_count": null,
      "metadata": {
        "colab": {
          "base_uri": "https://localhost:8080/",
          "height": 265
        },
        "id": "lFYt8KpmZW_g",
        "outputId": "93033150-2fee-4245-d19a-f64374061191"
      },
      "outputs": [
        {
          "data": {
            "image/png": "[encoded data removed]",
            "text/plain": [
              "<Figure size 432x288 with 2 Axes>"
            ]
          },
          "metadata": {},
          "output_type": "display_data"
        }
      ],
      "source": [
        "# Plot the loss and accuracy curves for training and validation\n",
        "fig, ax = plt.subplots(2,1)\n",
        "ax[0].plot(history.history['loss'], color='b', label=\"Training loss\")\n",
        "ax[0].plot(history.history['val_loss'], color='r', label=\"validation loss\",axes =ax[0])\n",
        "legend = ax[0].legend(loc='best', shadow=True)\n",
        "\n",
        "ax[1].plot(history.history['accuracy'], color='b', label=\"Training accuracy\")\n",
        "ax[1].plot(history.history['val_accuracy'], color='r',label=\"Validation accuracy\")\n",
        "legend = ax[1].legend(loc='best', shadow=True)"
      ]
    },
    {
      "cell_type": "code",
      "execution_count": 121,
      "metadata": {
        "id": "-SRv1aDvvEq_",
        "colab": {
          "base_uri": "https://localhost:8080/"
        },
        "outputId": "84580449-90a6-40e2-afa3-1a2714db3187"
      },
      "outputs": [
        {
          "output_type": "stream",
          "name": "stdout",
          "text": [
            "132/132 - 6s - loss: 0.0609 - accuracy: 0.9793 - 6s/epoch - 44ms/step\n",
            "Final loss: 0.060926, final accuracy: 0.979286\n"
          ]
        }
      ],
      "source": [
        "fin_loss, fin_acc = model.evaluate(X_val, Y_val, verbose=2)\n",
        "print(\"Final loss: {0:.6f}, final accuracy: {1:.6f}\".format(fin_loss, fin_acc))"
      ]
    },
    {
      "cell_type": "markdown",
      "metadata": {
        "id": "HqkW2QoRXilv"
      },
      "source": [
        "### Optional - Ensemble CNN architecture"
      ]
    },
    {
      "cell_type": "code",
      "execution_count": null,
      "metadata": {
        "id": "nJE1hLxwN4FF"
      },
      "outputs": [],
      "source": [
        "# 15 CNNs\n",
        "nets = 15\n",
        "model = [0] *nets\n",
        "for j in range(nets):\n",
        "    model[j] = Sequential()\n",
        "    # 1st BLOCK\n",
        "    model[j].add(Conv2D(32, kernel_size = 3, activation='relu', input_shape = (28, 28, 1)))\n",
        "    model[j].add(BatchNormalization())\n",
        "    model[j].add(Conv2D(32, kernel_size = 3, activation='relu'))\n",
        "    model[j].add(BatchNormalization())\n",
        "    model[j].add(Conv2D(32, kernel_size = 5, strides=2, padding='same', activation='relu'))\n",
        "    model[j].add(BatchNormalization())\n",
        "    model[j].add(Dropout(0.4))\n",
        "\n",
        "    # 2nd BLOCK\n",
        "    model[j].add(Conv2D(64, kernel_size = 3, activation='relu'))\n",
        "    model[j].add(BatchNormalization())\n",
        "    model[j].add(Conv2D(64, kernel_size = 3, activation='relu'))\n",
        "    model[j].add(BatchNormalization())\n",
        "    model[j].add(Conv2D(64, kernel_size = 5, strides=2, padding='same', activation='relu'))\n",
        "    model[j].add(BatchNormalization())\n",
        "    model[j].add(Dropout(0.4))\n",
        "\n",
        "    # 3rd BLOCK - Final Block\n",
        "    model[j].add(Conv2D(128, kernel_size = 4, activation='relu'))\n",
        "    model[j].add(BatchNormalization())\n",
        "    model[j].add(Flatten())\n",
        "    model[j].add(Dropout(0.4))\n",
        "    model[j].add(Dense(10, activation='softmax'))\n",
        "\n",
        "    # Compile the model\n",
        "    model[j].compile(optimizer=\"adam\", loss=\"categorical_crossentropy\", metrics=[\"accuracy\"])"
      ]
    },
    {
      "cell_type": "markdown",
      "metadata": {
        "id": "PHSQOIPkXfdU"
      },
      "source": [
        "### Confusion Matrix"
      ]
    },
    {
      "cell_type": "code",
      "execution_count": 127,
      "metadata": {
        "colab": {
          "base_uri": "https://localhost:8080/",
          "height": 314
        },
        "id": "KodcCCYfXhTo",
        "outputId": "2241eecc-1ca5-4fee-dc84-a8df7cd89c64"
      },
      "outputs": [
        {
          "output_type": "display_data",
          "data": {
            "text/plain": [
              "<Figure size 432x288 with 2 Axes>"
            ],
            "image/png": "[encoded data removed]"
          },
          "metadata": {}
        }
      ],
      "source": [
        "# Look at confusion matrix \n",
        "def plot_confusion_matrix(cm, classes,\n",
        "                          normalize=False,\n",
        "                          title='Confusion matrix',\n",
        "                          cmap=plt.cm.Greens):\n",
        "    \"\"\"\n",
        "    This function prints and plots the confusion matrix.\n",
        "    Normalization can be applied by setting `normalize=True`.\n",
        "    \"\"\"\n",
        "    plt.imshow(cm, interpolation='nearest', cmap=cmap)\n",
        "    plt.title(title)\n",
        "    plt.colorbar()\n",
        "    tick_marks = np.arange(len(classes))\n",
        "    plt.xticks(tick_marks, classes, rotation=45)\n",
        "    plt.yticks(tick_marks, classes)\n",
        "\n",
        "    if normalize:\n",
        "        cm = cm.astype('float') / cm.sum(axis=1)[:, np.newaxis]\n",
        "\n",
        "    thresh = cm.max() / 2.\n",
        "    for i, j in itertools.product(range(cm.shape[0]), range(cm.shape[1])):\n",
        "        plt.text(j, i, cm[i, j],\n",
        "                 horizontalalignment=\"center\",\n",
        "                 color=\"white\" if cm[i, j] > thresh else \"black\")\n",
        "\n",
        "    plt.tight_layout()\n",
        "    plt.ylabel('True label')\n",
        "    plt.xlabel('Predicted label')\n",
        "\n",
        "# Predict the values from the validation dataset\n",
        "Y_pred = model.predict(X_val)\n",
        "# Convert predictions classes to one hot vectors \n",
        "Y_pred_classes = np.argmax(Y_pred,axis = 1) \n",
        "# Convert validation observations to one hot vectors\n",
        "Y_true = np.argmax(Y_val,axis = 1) \n",
        "# compute the confusion matrix\n",
        "confusion_mtx = confusion_matrix(Y_true, Y_pred_classes) \n",
        "# plot the confusion matrix\n",
        "plot_confusion_matrix(confusion_mtx, classes = range(10)) "
      ]
    },
    {
      "cell_type": "code",
      "source": [
        "# Classification Report\n",
        "target_names = [\"Class {}\".format(i) for i in range(10)]\n",
        "print(classification_report(Y_true_classes, Y_pred_classes, target_names=target_names))"
      ],
      "metadata": {
        "colab": {
          "base_uri": "https://localhost:8080/"
        },
        "id": "Kv5tRbOJzWj5",
        "outputId": "159e58f1-bed7-41d5-ba01-b3e0703b0a58"
      },
      "execution_count": 128,
      "outputs": [
        {
          "output_type": "stream",
          "name": "stdout",
          "text": [
            "              precision    recall  f1-score   support\n",
            "\n",
            "     Class 0       0.99      0.99      0.99       411\n",
            "     Class 1       0.99      0.98      0.98       485\n",
            "     Class 2       0.96      0.99      0.98       403\n",
            "     Class 3       0.99      0.98      0.98       418\n",
            "     Class 4       0.99      0.97      0.98       461\n",
            "     Class 5       0.99      0.98      0.99       372\n",
            "     Class 6       0.99      0.98      0.98       413\n",
            "     Class 7       0.98      0.98      0.98       446\n",
            "     Class 8       0.96      0.97      0.96       382\n",
            "     Class 9       0.95      0.98      0.96       409\n",
            "\n",
            "    accuracy                           0.98      4200\n",
            "   macro avg       0.98      0.98      0.98      4200\n",
            "weighted avg       0.98      0.98      0.98      4200\n",
            "\n"
          ]
        }
      ]
    },
    {
      "cell_type": "code",
      "execution_count": null,
      "metadata": {
        "colab": {
          "base_uri": "https://localhost:8080/",
          "height": 298
        },
        "id": "xGX7ADiGaSxv",
        "outputId": "5e5f3741-acd1-4747-c0c0-e98517f71481"
      },
      "outputs": [
        {
          "data": {
            "image/png": "[encoded data removed]",
            "text/plain": [
              "<Figure size 432x288 with 6 Axes>"
            ]
          },
          "metadata": {},
          "output_type": "display_data"
        }
      ],
      "source": [
        "# Display Error results - We can also classify those errors and insert those misclassified in the train input.\n",
        "\n",
        "# Errors are difference between predicted labels and true labels\n",
        "errors = (Y_pred_classes - Y_true != 0)\n",
        "\n",
        "Y_pred_classes_errors = Y_pred_classes[errors]\n",
        "Y_pred_errors = Y_pred[errors]\n",
        "Y_true_errors = Y_true[errors]\n",
        "X_val_errors = X_val[errors]\n",
        "\n",
        "def display_errors(errors_index,img_errors,pred_errors, obs_errors):\n",
        "    \"\"\" This function shows 6 images with their predicted and real labels\"\"\"\n",
        "    n = 0\n",
        "    nrows = 2\n",
        "    ncols = 3\n",
        "    fig, ax = plt.subplots(nrows,ncols,sharex=True,sharey=True)\n",
        "    for row in range(nrows):\n",
        "        for col in range(ncols):\n",
        "            error = errors_index[n]\n",
        "            ax[row,col].imshow((img_errors[error]).reshape((28,28)))\n",
        "            ax[row,col].set_title(\"Predicted label :{}\\nTrue label :{}\".format(pred_errors[error],obs_errors[error]))\n",
        "            n += 1\n",
        "\n",
        "# Probabilities of the wrong predicted numbers\n",
        "Y_pred_errors_prob = np.max(Y_pred_errors,axis = 1)\n",
        "\n",
        "# Predicted probabilities of the true values in the error set\n",
        "true_prob_errors = np.diagonal(np.take(Y_pred_errors, Y_true_errors, axis=1))\n",
        "\n",
        "# Difference between the probability of the predicted label and the true label\n",
        "delta_pred_true_errors = Y_pred_errors_prob - true_prob_errors\n",
        "\n",
        "# Sorted list of the delta prob errors\n",
        "sorted_dela_errors = np.argsort(delta_pred_true_errors)\n",
        "\n",
        "# Top 6 errors \n",
        "most_important_errors = sorted_dela_errors[-6:]\n",
        "\n",
        "# Show the top 6 errors\n",
        "display_errors(most_important_errors, X_val_errors, Y_pred_classes_errors, Y_true_errors)"
      ]
    },
    {
      "cell_type": "code",
      "execution_count": null,
      "metadata": {
        "id": "rsyllV-yaTGl"
      },
      "outputs": [],
      "source": [
        "# Predict results\n",
        "results = model.predict(x_test)\n",
        "\n",
        "# Select the index with the maximum probability\n",
        "results = np.argmax(results,axis = 1)\n",
        "\n",
        "results = pd.Series(results,name=\"Label\")"
      ]
    }
  ],
  "metadata": {
    "colab": {
      "collapsed_sections": [
        "HqkW2QoRXilv"
      ],
      "name": "MNIST - CNN.ipynb",
      "provenance": []
    },
    "kernelspec": {
      "display_name": "Python 3",
      "name": "python3"
    },
    "language_info": {
      "name": "python"
    }
  },
  "nbformat": 4,
  "nbformat_minor": 0
}